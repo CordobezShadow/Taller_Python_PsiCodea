{
  "nbformat": 4,
  "nbformat_minor": 0,
  "metadata": {
    "colab": {
      "name": "PsiCodea día 1.ipynb",
      "provenance": [],
      "collapsed_sections": [
        "IZlM9nheElSH"
      ],
      "include_colab_link": true
    },
    "kernelspec": {
      "name": "python3",
      "display_name": "Python 3"
    }
  },
  "cells": [
    {
      "cell_type": "markdown",
      "metadata": {
        "id": "view-in-github",
        "colab_type": "text"
      },
      "source": [
        "<a href=\"https://colab.research.google.com/github/GEJ1/Taller_Python_PsiCodea/blob/main/PsiCodea_d%C3%ADa_1.ipynb\" target=\"_parent\"><img src=\"https://colab.research.google.com/assets/colab-badge.svg\" alt=\"Open In Colab\"/></a>"
      ]
    },
    {
      "cell_type": "markdown",
      "metadata": {
        "id": "IZlM9nheElSH"
      },
      "source": [
        "# ¡Bievenides!\n",
        "\n",
        "* **¿Qué es programar?** <br>\n",
        "  * Una definición sencillar sería: \"Darle órdenes a una computadora por medio de código para que realice una tarea\".\n",
        "\n",
        "* **¿Qué corno es Python?** <br>\n",
        "  * Es un lenguaje interpretado (no hace falta compilarlo), dinámico (una variable puede tomar valores de distinto tipo) y multiplataforma (anda en prácticamente cualquier compu).\n",
        "\n",
        "  * Es de propósito general, esto quiere decir que puede servir para analizar datos, pero también para hacer una página web o muchas otras cosas divertidas.\n",
        "\n",
        "  * Funciona con librerías (código extra que podemos agregar para obtener nuevas funcionalidades) y se caracteriza por tener gran variedad para cómputo científico.\n",
        "\n",
        "  * Tiene una licencia Open Source, por lo que se puede usar y distribuir libremente, incluso para uso comercial.\n",
        "  \n",
        "  * Comunidad grande (lo que es muy útil para buscar respuestas a nuestras dudas, aunque sufre de algunos problemas de misoginia).\n",
        "\n",
        "<center> <img src=https://static.javatpoint.com/interview/images/advantages-of-python.png alt=\"Advantages of Python\"> </center>\n",
        "<center> Fuente de la imagen: www.javatpoint.com  </center>\n",
        "\n",
        "* **¿Y Google Colab?** <br>\n",
        "  * Es una plataforma de Google que nos da acceso a un Jupyter notebook (o cuaderno de Jupyter), una plataforma interactiva que funciona en nuestro navegador y está en la nube, donde podremos escribir código en Python, agregar texto con Markdown, mostrar imágenes, gráficos y mucho más. ¡Todo en un solo lugar y de manera gratuita!\n",
        "\n",
        "* **¿Para qué quiero Python si tengo a papi Excel para analizar mis datos?**\n",
        "  * Si bien programas como Microsoft® Excel® tienen la ventaja de su facilidad de uso por medio de una interfaz gráfica y una gran capacidad para realizar poderosos análisis de datos, su flexibilidad es mucho más limitada. Podría darse el caso de querer utilizar alguna funcionalidad aún no implementada o un nuevo modo de realizar alguna de las ya existentes, además de tres problemas graves: menor control sobre la forma en que se lleva a cabo el análisis, el hecho de ser software propietario (no es gratis y no sabemos cómo fue desarrollado) y menor posibilidad de automatización de tareas."
      ]
    },
    {
      "cell_type": "markdown",
      "metadata": {
        "id": "-bQclOfuEiwj"
      },
      "source": [
        "# Tu primer programa\n",
        "\n"
      ]
    },
    {
      "cell_type": "markdown",
      "metadata": {
        "id": "mrF9ndlFoGSj"
      },
      "source": [
        "El documento que estamos usando es un .ipynb, o Jupyter Notebook que se puede ejecutar en otros entornos aparte del Colab (e.g. Anaconda).\n",
        "\n",
        "El documento está en modo lectura. Podés hacer una copia y guardarla en tu propio Drive, y así editar el código.\n",
        "\n",
        "Al apretar el botón ▶️ que aparece a la izquierda al posarse en una celda de código, podés ejecutar esa celda, y el output aparecerá abajo.\n",
        "\n",
        "Vamos a escribir nuestro primer programa:"
      ]
    },
    {
      "cell_type": "markdown",
      "metadata": {
        "id": "9cb9dcAfehsA"
      },
      "source": [
        ""
      ]
    },
    {
      "cell_type": "code",
      "metadata": {
        "id": "KosSKMlEhQBL",
        "colab": {
          "base_uri": "https://localhost:8080/"
        },
        "outputId": "919e040d-89c5-4177-a1b5-30338ea21b1c"
      },
      "source": [
        "# Presióna el símbolo ▶️ para ejecutar el programa\n",
        "print('Hola mundo!')"
      ],
      "execution_count": 1,
      "outputs": [
        {
          "output_type": "stream",
          "text": [
            "Hola mundo!\n"
          ],
          "name": "stdout"
        }
      ]
    },
    {
      "cell_type": "markdown",
      "metadata": {
        "id": "1Z8tV5ePhr-l"
      },
      "source": [
        "¡Felicitaciones! Acabás de escribir tu primer programa en python! \n",
        "\n",
        "Pero... ¿Qué pasó??\n",
        "\n",
        "![Más despacio cerebrito](https://media1.tenor.com/images/8e79d959633363b99eed8ca1f14c8498/tenor.gif?itemid=9870240)\n",
        "\n",
        "Resumidamente: \n",
        "* El intérprete de Python que tiene Google Colab leyó nuestra línea de código, la interpretó (pues a eso se dedica) y nos devolvió el resultado de esa ejecución como un bello objeto tipo string (*str*) con el contenido \"Hola mundo!\""
      ]
    },
    {
      "cell_type": "code",
      "metadata": {
        "id": "25kd859Ek926",
        "colab": {
          "base_uri": "https://localhost:8080/"
        },
        "outputId": "d8cb4787-8f1d-4c38-9b55-ac0dc4a7b7b8"
      },
      "source": [
        "# Mini ejercicio: siguiendo el ejemplo de 'Hola mundo!', imprimir la frase 'Despacio, cerebrito!'\n",
        "# Aclaración: borrar los guiones bajos, en los ejercicios están solo para indicar la parte de código que les toca escribir a ustedes :)\n",
        "# Y por cierto, las líneas como esta que comienzan con numeral (o hashtag, según la edad que tengas) son comentarios que NO se ejecutan\n",
        "\n",
        "print(___)"
      ],
      "execution_count": 2,
      "outputs": [
        {
          "output_type": "stream",
          "text": [
            "\n"
          ],
          "name": "stdout"
        }
      ]
    },
    {
      "cell_type": "markdown",
      "metadata": {
        "id": "vbfbJpRkwjX3"
      },
      "source": [
        "# Funciones\n",
        "\n",
        "Una subrutina o función es un fragmento de código el cual permite resolver una tarea específica. Si Python es un lenguaje, una función se puede pensar como un verbo o acción que realizamos sobre otro objeto (lo que le demos como entrada o *input*). Lo que hicimos acá arriba fue llamar a la función *print* para que haga lo suyo (imprimir) con el input 'Despacio, cerebrito!'.\n",
        "\n",
        "Podemos usar funciones:\n",
        "* Escritas por nosotrxs mismxs.\n",
        "* Utilizar las que vienen en Python como el caso de *print* (estas se denominan *built-in functions* y pueden ver una lista entrando [acá](https://docs.python.org/es/3.8/library/functions.html)\n",
        "* Hacer uso de las funciones que vienen dentro de librerías que importemos (lo veremos más adelante).\n",
        "\n",
        "<center>\n",
        "<div>\n",
        "<img src=\"https://upload.wikimedia.org/wikipedia/commons/thumb/3/3b/Function_machine2.svg/1200px-Function_machine2.svg.png\" width=\"300\" height=\"auto\"/>\n",
        "</div>\n",
        "Fuente de la imagen: https://en.wikipedia.org/wiki/Function_(mathematics) \n",
        "</center> <br><br>\n",
        "\n",
        "\n",
        "\n",
        "<center>\n",
        "<div>\n",
        "<img src=\"https://hcc-cs.weebly.com/uploads/2/4/5/3/24535251/1523299_orig.png\" width=\"450\" height=\"auto\"/>\n",
        "</div>\n",
        "Fuente de la imagen: http://hcc-cs.weebly.com/functions.html\n",
        "</center>\n",
        "\n",
        "\n",
        "\n"
      ]
    },
    {
      "cell_type": "code",
      "metadata": {
        "colab": {
          "base_uri": "https://localhost:8080/"
        },
        "id": "nQrE4ouE-NgE",
        "outputId": "42a9b7d7-7e7e-43c4-b827-152f8f93a364"
      },
      "source": [
        "def TeSumo(a,b):\n",
        "  resultado = a + b\n",
        "  return resultado\n",
        "\n",
        "print(TeSumo(1,2))"
      ],
      "execution_count": 5,
      "outputs": [
        {
          "output_type": "stream",
          "text": [
            "3\n"
          ],
          "name": "stdout"
        }
      ]
    },
    {
      "cell_type": "markdown",
      "metadata": {
        "id": "GSZ6Evj2h04t"
      },
      "source": [
        "# Variables\n",
        "\n",
        "- Una variable es un nombre que se refiere a un objeto que reside en la memoria. \n",
        "- Puede ser de distintos tipos: Texto, su tipo será <font color='blue'>str</font> (por string, o cadena de caracteres), numérica como <font color='blue'>int</font> (número entero) o <font color='blue'>float</font> (número con coma), <font color='blue'>boolean</font> con la posibilidad de ser verdadero (*True*) o falso (*False*), entre otras.\n",
        "* Para asignar un dato a una variable utilizaremos el signo **=** de un modo diferente a como lo hacíamos en matemática. Porque no se trata de una igualdad sino de una asignación.<br>\n",
        "Ejemplo: <br>\n",
        "variable = contenido_de_mi_variable*\n",
        "\n",
        "Esto quiere decir que reservamos un espacio de memoria llamado **variable** cuyo contenido será **contenido_de_mi_variable**"
      ]
    },
    {
      "cell_type": "code",
      "metadata": {
        "id": "481BCYzNhzpD"
      },
      "source": [
        "# Definimos tres variables de tipo string (es la manera de referirse a algo que contiene texto).\n",
        "# Ya veremos más en detalle qué tipos de datos son string, pero les adelanto que el texto y los espacios lo son.\n",
        "nombre = 'Juana'\n",
        "espacio = ' '\n",
        "apellido = 'Pérez'"
      ],
      "execution_count": null,
      "outputs": []
    },
    {
      "cell_type": "markdown",
      "metadata": {
        "id": "YmnRzKhds545"
      },
      "source": [
        "Nota: Para escribir strings existen dos formas:\n",
        "*   Comillas simples: 'Hola'\n",
        "*   Comillas dobles: \"Hola\""
      ]
    },
    {
      "cell_type": "code",
      "metadata": {
        "id": "v2JC7ekcjdnD",
        "colab": {
          "base_uri": "https://localhost:8080/",
          "height": 34
        },
        "outputId": "31ca25d6-ded3-40b0-9fad-4667f7f91be9"
      },
      "source": [
        "# Y ahora podemos imprimirlas en pantalla como hicimos en nuestro primer programa usando la función \"print\"\n",
        "print(nombre + espacio + apellido)"
      ],
      "execution_count": null,
      "outputs": [
        {
          "output_type": "stream",
          "text": [
            "Juana Perez\n"
          ],
          "name": "stdout"
        }
      ]
    },
    {
      "cell_type": "code",
      "metadata": {
        "id": "KNaMOzVtpQKz"
      },
      "source": [
        "# Probemos con otros tipos de datos\n",
        "edad = 64\n",
        "altura = 1.59"
      ],
      "execution_count": null,
      "outputs": []
    },
    {
      "cell_type": "code",
      "metadata": {
        "id": "VAVzQ1TbpamJ",
        "colab": {
          "base_uri": "https://localhost:8080/",
          "height": 164
        },
        "outputId": "d1bd233c-2187-46dc-c2d5-ce1860cd1b96"
      },
      "source": [
        "print(nombre + 'tiene' + edad + 'años' + 'y mide' + altura + 'metros')"
      ],
      "execution_count": null,
      "outputs": [
        {
          "output_type": "error",
          "ename": "TypeError",
          "evalue": "ignored",
          "traceback": [
            "\u001b[0;31m---------------------------------------------------------------------------\u001b[0m",
            "\u001b[0;31mTypeError\u001b[0m                                 Traceback (most recent call last)",
            "\u001b[0;32m<ipython-input-9-64b5b3ebdfb1>\u001b[0m in \u001b[0;36m<module>\u001b[0;34m()\u001b[0m\n\u001b[0;32m----> 1\u001b[0;31m \u001b[0mprint\u001b[0m\u001b[0;34m(\u001b[0m\u001b[0mnombre\u001b[0m\u001b[0;34m+\u001b[0m \u001b[0;34m'tiene'\u001b[0m \u001b[0;34m+\u001b[0m \u001b[0medad\u001b[0m \u001b[0;34m+\u001b[0m \u001b[0;34m'años'\u001b[0m \u001b[0;34m+\u001b[0m \u001b[0;34m'y mide'\u001b[0m \u001b[0;34m+\u001b[0m \u001b[0maltura\u001b[0m \u001b[0;34m+\u001b[0m \u001b[0;34m'metros'\u001b[0m\u001b[0;34m)\u001b[0m\u001b[0;34m\u001b[0m\u001b[0;34m\u001b[0m\u001b[0m\n\u001b[0m",
            "\u001b[0;31mTypeError\u001b[0m: must be str, not int"
          ]
        }
      ]
    },
    {
      "cell_type": "markdown",
      "metadata": {
        "id": "zGdKqBNFpzhC"
      },
      "source": [
        "**¡¡ERROR!!**\n",
        "\n",
        "Si queremos aprender a programar vamos a tener que aprender a lidiar con los errores y aprovecharlos para mejorar.\n",
        "\n",
        "¿Qué sucedió?\n",
        "\n",
        "*TypeError: must be str, not int*\n",
        "\n",
        "Básicamente tuvimos un <font color='red'>error de tipo</font>, tratamos de mezclar peras con manzanas. El tipo de dato que recibe la función **print** tiene que ser una cadena de caracteres (o *str*), por lo tanto al intentar meterle números provoca un error.\n",
        "\n",
        "¿La solución?\n",
        "\n",
        "Transformar el dato número en su correspondiente dato en cadena de caracteres. Eso se hace fácilmente en Python con la función str()"
      ]
    },
    {
      "cell_type": "code",
      "metadata": {
        "id": "1oHghnZIqewT"
      },
      "source": [
        "# Usamos la función str() para transformar el dato de tipo numérico a tipo str (candena de caracteres o sencillamente texto).\n",
        "edad = str(64)\n",
        "altura = str(1.64)"
      ],
      "execution_count": null,
      "outputs": []
    },
    {
      "cell_type": "code",
      "metadata": {
        "id": "07e2rVyjpu_d",
        "colab": {
          "base_uri": "https://localhost:8080/",
          "height": 34
        },
        "outputId": "6d1ec3d8-655d-4baf-ed9a-a769a570c303"
      },
      "source": [
        "# Probamos otra vez la línea que había generado el error\n",
        "print(nombre + 'tiene' + edad + 'años' + 'y mide' + altura + 'metros')"
      ],
      "execution_count": null,
      "outputs": [
        {
          "output_type": "stream",
          "text": [
            "Juanatiene64añosy mide1.64metros\n"
          ],
          "name": "stdout"
        }
      ]
    },
    {
      "cell_type": "code",
      "metadata": {
        "id": "zDolYAV8q9cy",
        "colab": {
          "base_uri": "https://localhost:8080/",
          "height": 34
        },
        "outputId": "c27854ab-22f1-4da6-cc7b-6a7400a6db04"
      },
      "source": [
        "# ¡Funcionó! Aunque se ve medio feo, mejor agreguemos espacios\n",
        "print(nombre + ' tiene ' + edad + ' años ' + 'y mide ' + altura + ' metros')"
      ],
      "execution_count": null,
      "outputs": [
        {
          "output_type": "stream",
          "text": [
            "Juana tiene 64 años y mide 1.64 metros\n"
          ],
          "name": "stdout"
        }
      ]
    },
    {
      "cell_type": "markdown",
      "metadata": {
        "id": "-BQie-ABvcsz"
      },
      "source": [
        "# Tipos de datos\n",
        "\n",
        "En Python, todo valor que pueda ser asignado a una variable tiene asociado un tipo de dato. \n",
        "\n"
      ]
    },
    {
      "cell_type": "markdown",
      "metadata": {
        "id": "TkbObGUHwWiw"
      },
      "source": [
        "### Variables de tipo *bool* o *booleanas*\n",
        "\n",
        "Puede tomar solo dos valores: True o False (¡atentis a la mayúscula!), y sirve para hacer [compuertas lógicas](https://www.logicbus.com.mx/compuertas-logicas.php).\n"
      ]
    },
    {
      "cell_type": "code",
      "metadata": {
        "id": "Wevws5QszeUQ",
        "colab": {
          "base_uri": "https://localhost:8080/",
          "height": 51
        },
        "outputId": "ee11f3c0-66b2-4fda-ddba-be8c3002f69a"
      },
      "source": [
        "# Ejemplo de variables con valores booleanos\n",
        "verdadero = True\n",
        "falso = False\n",
        "\n",
        "print(type(verdadero))\n",
        "print(type(falso))"
      ],
      "execution_count": null,
      "outputs": [
        {
          "output_type": "stream",
          "text": [
            "<class 'bool'>\n",
            "<class 'bool'>\n"
          ],
          "name": "stdout"
        }
      ]
    },
    {
      "cell_type": "code",
      "metadata": {
        "id": "fKx7w3pZzvBR",
        "colab": {
          "base_uri": "https://localhost:8080/",
          "height": 51
        },
        "outputId": "4135e568-6e51-4946-ed2d-1d474e9c1c46"
      },
      "source": [
        "# Podemos operar con esas variables\n",
        "print(verdadero == verdadero) # Ojo: Acá estamos haciendo una comparación (==) y no una asignación(=).\n",
        "\n",
        "print(verdadero == falso)"
      ],
      "execution_count": null,
      "outputs": [
        {
          "output_type": "stream",
          "text": [
            "True\n",
            "False\n"
          ],
          "name": "stdout"
        }
      ]
    },
    {
      "cell_type": "markdown",
      "metadata": {
        "id": "_X_XO9SH2f7H"
      },
      "source": [
        "La lista completa de operadores es:\n",
        "\n",
        "Mayor:  a > b\n",
        "\n",
        "Mayor o igual:  a >= b\n",
        "\n",
        "Menor:  a < b\n",
        "\n",
        "Menor o igual: a <= b\n",
        "\n",
        "Igual:  a == b (No confundir con la asignación de variables que se hace con un  solo signo **=**)\n",
        "\n",
        "Diferente: a != b"
      ]
    },
    {
      "cell_type": "markdown",
      "metadata": {
        "id": "RwKDQKB36Oou"
      },
      "source": [
        "Las compuertas lógicas que existen en Python son las siguientes: \n",
        "\n",
        "\n",
        "\n",
        "*   and: Es el \"y\" o la conjunción\n",
        "*   or: es el \"o\" o la disyunción \n",
        "*   not: es el \"no\" o la negación\n",
        "\n",
        "Y al utilizarlos obtenemos los siguientes resultados:\n",
        "\n",
        "* El resultado de **or** es verdadero cuando al menos uno de los operandos lo es.\n",
        "* El resultado de **and** es verdadero solo cuando ambos operandos lo son.\n",
        "* El operador **not** invierte el valor del operando.\n",
        "  \n",
        "\n",
        "\n",
        "\n"
      ]
    },
    {
      "cell_type": "code",
      "metadata": {
        "id": "gNI8DkxI3avW",
        "colab": {
          "base_uri": "https://localhost:8080/",
          "height": 68
        },
        "outputId": "f4cfc7f5-ce2d-4dab-c6eb-3aa7e7b29611"
      },
      "source": [
        "# Ejemplos\n",
        "\n",
        "primero = 1\n",
        "segundo = 2\n",
        "tercero = 3\n",
        "\n",
        "print(primero == segundo or primero == primero)\n",
        "print(primero < segundo and segundo > tercero)\n",
        "print(not(primero == primero))\n"
      ],
      "execution_count": null,
      "outputs": [
        {
          "output_type": "stream",
          "text": [
            "True\n",
            "False\n",
            "False\n"
          ],
          "name": "stdout"
        }
      ]
    },
    {
      "cell_type": "markdown",
      "metadata": {
        "id": "bwNo1lQW83X7"
      },
      "source": [
        "¿Qué sucedió?\n",
        "\n",
        "1. Caso 1: primero == segundo es falso, pero primero == primero es verdadero. Como falso **or** verdadero da verdadero, ese será el primer resultado.\n",
        "\n",
        "2. Caso 2: primero efectivamente es menor que segundo (da True), pero segundo no es mayor que tercero (False), por lo que la True **and** False da False.\n",
        "\n",
        "3. Caso 3: primero efectivamente es igual a sí mismo, pero como estamos aplicando el operador **not**, obtenemos False como resultado."
      ]
    },
    {
      "cell_type": "markdown",
      "metadata": {
        "id": "VuuJaYF33bBZ"
      },
      "source": [
        "Todavía puede que no se vea la gran utilidad de esta lógica, pero es indispensable para lograr cosas interesantes programando."
      ]
    },
    {
      "cell_type": "markdown",
      "metadata": {
        "id": "qy8TZ3mK-L4U"
      },
      "source": [
        "### Iterables\n",
        "\n",
        "Un iterador es un objeto que cuando se le llama, devuelve el siguiente elemento en la secuencia, cuando no queda nada para ser devuelto, lanza una excepción y se detiene la iteración.\n",
        "\n",
        "Algunos objetos iterables son las <font color='green'>listas</font>, las <font color='green'>tuplas</font>, los <font color='green'>sets</font> los <font color='green'>diccionarios</font> y los <font color='green'>strings</font>.\n",
        "\n",
        "Las listas son un objeto que contiene elementos de cualquier tipo y es mutable (se puede modificar)"
      ]
    },
    {
      "cell_type": "code",
      "metadata": {
        "id": "LJXTD4wk93p5",
        "colab": {
          "base_uri": "https://localhost:8080/",
          "height": 51
        },
        "outputId": "29304d66-c52d-4995-d8a6-f03204e6f2f9"
      },
      "source": [
        "# Lista con elementos de igual tipo\n",
        "soy_una_lista_del_mismo_tipo = [1,2,3]\n",
        "\n",
        "# Lista con elementos de distinto tipo\n",
        "soy_una_lista_de_distintos_tipos = [1,'hola',3.5]\n",
        "\n",
        "print(soy_una_lista_del_mismo_tipo)\n",
        "print(soy_una_lista_de_distintos_tipos)"
      ],
      "execution_count": null,
      "outputs": [
        {
          "output_type": "stream",
          "text": [
            "[1, 2, 3]\n",
            "[1, 'hola', 3.5]\n"
          ],
          "name": "stdout"
        }
      ]
    },
    {
      "cell_type": "markdown",
      "metadata": {
        "id": "dnuE1ouH1l1i"
      },
      "source": [
        "### ¿Cómo hacemos para saber que tipo de dato tiene nuestra variable?\n",
        "\n",
        "Utilizamos la función *type()*"
      ]
    },
    {
      "cell_type": "code",
      "metadata": {
        "id": "nUW2H26_1vRg",
        "colab": {
          "base_uri": "https://localhost:8080/",
          "height": 119
        },
        "outputId": "eab3a625-9bed-440a-f665-91c713ea6459"
      },
      "source": [
        "soy_un_string = 'Hola'\n",
        "soy_un_numero_entero = 10\n",
        "soy_un_numero_con_coma = 1.5\n",
        "soy_un_booleano = True\n",
        "soy_una_funcion = print\n",
        "soy_una_lista = ['primer elemento', 2, print, ['hola'],2.5]\n",
        "\n",
        "\n",
        "print(type(soy_un_string))\n",
        "print(type(soy_un_numero_entero))\n",
        "print(type(soy_un_numero_con_coma))\n",
        "print(type(soy_un_booleano))\n",
        "print(type(soy_una_funcion))\n",
        "print(type(soy_una_lista))"
      ],
      "execution_count": null,
      "outputs": [
        {
          "output_type": "stream",
          "text": [
            "<class 'str'>\n",
            "<class 'int'>\n",
            "<class 'float'>\n",
            "<class 'bool'>\n",
            "<class 'builtin_function_or_method'>\n",
            "<class 'list'>\n"
          ],
          "name": "stdout"
        }
      ]
    },
    {
      "cell_type": "markdown",
      "metadata": {
        "id": "1nxguZILDVke"
      },
      "source": [
        "# Condicionales: if, elif, else\n",
        "Las palabras reservadas **if** (si condicional), **elif** (sino) y **else** (de última [ *la traducción podría o no ser literal* ]) nos permiten ejecutar diferentes líneas de código dependiendo de si una condición previa es verdadera (True) o no lo es (False).\n",
        "\n",
        "¡Esta es una de las aplicaciones de los booleanos!\n",
        "\n",
        "if, elif y else, siempre se colocan en ese orden. Solamente se ejecuta uno de ellos, el que corresponde primero que sea True. Si uno resulta True, Python lo ejecuta y no evalúa las siguientes condiciones.\n",
        "\n",
        "Empieza por el if, y luego los elif (que viene de *else if*) en orden descendente. Si ninguno de ellos es verdadero, el else por defecto lo será.\n",
        "<center>\n",
        "<div>\n",
        "<img src=\"https://i.ibb.co/hCB8YQq/if-flow.png\" width=\"400\" height=\"auto\"/>\n",
        "</div>\n",
        "</center>\n",
        "\n",
        "Cuando nuestro programa llega al condicional (**Inicio**), en ese momento se evalúa nuestra condición: si el resultado es verdadero (True) seguiremos por la rama izquierda y se ejecutará el código correspondiente (**Si la condición se cumple**), si al evaluarla el resultado es falso (False) lo hará el código correspondiente a la rama derecha (**Si la condición no se cumple**) y posteriormente el condicional terminará (**Fin**).\n",
        "\n",
        "\n"
      ]
    },
    {
      "cell_type": "code",
      "metadata": {
        "id": "1LLwbF4LEDOJ",
        "colab": {
          "base_uri": "https://localhost:8080/"
        },
        "outputId": "8d247294-b116-4eb6-bfff-6c201451879d"
      },
      "source": [
        "# Podemos tener solamente un if \n",
        "\n",
        "cantidad_de_faltas = 51\n",
        "\n",
        "if cantidad_de_faltas > 50:\n",
        "  print('Oops, te quedaste libre!')\n",
        "\n",
        "# Si la condición del if es False, no se va a ejecutar nada.\n",
        "\n",
        "# Podemos tener if y elif (tantos elif como queramos) sin else\n",
        "# y de nuevo, si todos son falsos no se va a ejecutar nada\n",
        "\n",
        "edad = 5\n",
        "\n",
        "if 18 < edad < 65  :\n",
        "  print('Adulte')\n",
        "elif edad > 65:\n",
        "  print('Anciane')\n",
        "\n",
        "\n",
        "# Podemos combinar diferentes condiciones\n",
        "dia = 'sabado'\n",
        "\n",
        "if dia == 'sabado' or dia == 'domingo': \n",
        "  print('Trabajo igual porque estoy haciendo un doctorado!') "
      ],
      "execution_count": 4,
      "outputs": [
        {
          "output_type": "stream",
          "text": [
            "Oops, te quedaste libre!\n",
            "Trabajo igual porque estoy haciendo un doctorado!\n"
          ],
          "name": "stdout"
        }
      ]
    },
    {
      "cell_type": "markdown",
      "metadata": {
        "id": "g6QxTWXwDN26"
      },
      "source": [
        "# Condicionales: Ciclos While y For\n",
        "\n",
        "El ciclo (bucle o *loop*) **while** es un ciclo repetitivo que continúa muentras el resultado de una expresión lógica sea verdadero (True).\n",
        "\n",
        "<img src=\"https://i.ibb.co/98rnmNV/Flow-Diagram-do-while-loop.jpg\" alt=\"Flow-Diagram-do-while-loop\" width=\"600\" height=\"auto\">\n",
        "\n",
        "Cuando nuestro programa llega al condicional (**Inicio del ciclo While**), en ese momento se evalúa nuestra condición: si el resultado es verdadero (True) seguiremos por la rama izquierda y se ejecutará el código correspondiente (**Si la condición se cumple**), si al evaluarla el resultado es falso (False) lo hará el código correspondiente a la rama derecha (**Si la condición no se cumple**) y posteriormente el condicional terminará (**Fin**).\n",
        "\n",
        "El bucle **For** es una estructura de control en programación en la que se puede indicar de antemano el número máximo de iteraciones.\n"
      ]
    },
    {
      "cell_type": "code",
      "metadata": {
        "colab": {
          "base_uri": "https://localhost:8080/"
        },
        "id": "2JYMAMnSDNOz",
        "outputId": "0af6ed0a-9323-4360-b0a0-fdc528f971bf"
      },
      "source": [
        "#Ejemplo de ciclo de ciclo while\n",
        "\n",
        "# Iniciamos un contador de manzanas\n",
        "cantidad_de_manzanas = 10\n",
        "\n",
        "while cantidad_de_manzanas > 0: #Mientras se cumpla esta condicion ejecuto el codigo de abajo\n",
        "  print('me como una manzana')\n",
        "  cantidad_de_manzanas = cantidad_de_manzanas - 1 # Decrementamos el contador en 1\n",
        "  print('me quedan ' + str(cantidad_de_manzanas) + ' manzanas')\n",
        "\n",
        "print('Ya me comi todas') #Cuando salgo del While ejecuto esta linea que no esta tabulada \n",
        "\n",
        "  "
      ],
      "execution_count": 18,
      "outputs": [
        {
          "output_type": "stream",
          "text": [
            "me como una manzana\n",
            "me quedan 9 manzanas\n",
            "me como una manzana\n",
            "me quedan 8 manzanas\n",
            "me como una manzana\n",
            "me quedan 7 manzanas\n",
            "me como una manzana\n",
            "me quedan 6 manzanas\n",
            "me como una manzana\n",
            "me quedan 5 manzanas\n",
            "me como una manzana\n",
            "me quedan 4 manzanas\n",
            "me como una manzana\n",
            "me quedan 3 manzanas\n",
            "me como una manzana\n",
            "me quedan 2 manzanas\n",
            "me como una manzana\n",
            "me quedan 1 manzanas\n",
            "me como una manzana\n",
            "me quedan 0 manzanas\n",
            "Ya me comi todas\n"
          ],
          "name": "stdout"
        }
      ]
    },
    {
      "cell_type": "code",
      "metadata": {
        "id": "KWDHxbKwT8pZ"
      },
      "source": [
        "# Atentes a este, van a tener que frena la ejecución a mano tocando en el botón ⏹️ \n",
        "# Hay que ser cuidadosos con los ciclos que siempre cumplen la condición porque pueden agotar toda la memoria y llevar a errores.\n",
        "numero_de_iteracion = 0\n",
        "while True:\n",
        "  numero_de_iteracion = numero_de_iteracion + 1\n",
        "  print('Soy un ciclo infinito')\n",
        "  print('Iteracion numero: ' + str(numero_de_iteracion))\n",
        "print('Finalizo el ciclo') # Nunca salgo del ciclo asi que esto jamas se va a ejecutar"
      ],
      "execution_count": null,
      "outputs": []
    },
    {
      "cell_type": "code",
      "metadata": {
        "colab": {
          "base_uri": "https://localhost:8080/"
        },
        "id": "As5kd127UuIs",
        "outputId": "e9903e1a-2b67-4761-dfdd-e010a1947ed7"
      },
      "source": [
        "# Bueno aca estoy flasheando jajaja\n",
        "# Se pueden agregar cualquier combinacion de operadores logicos y comparadores. Lo importante es el resultado de la expresion final.\n",
        "edad_abuelita = 85\n",
        "soy_zurdo = False\n",
        "\n",
        "while edad_abuelita < 89  or soy_zurdo:\n",
        "  edad_abuelita = edad_abuelita + 1\n",
        "  print('Cuento hasta que la abuelita cumpla 89, ahora tiene ' + str(edad_abuelita)+ ' años')\n"
      ],
      "execution_count": 28,
      "outputs": [
        {
          "output_type": "stream",
          "text": [
            "Cuento hasta que la abuelita cumpla 89, ahora tiene 86 años\n",
            "Cuento hasta que la abuelita cumpla 89, ahora tiene 87 años\n",
            "Cuento hasta que la abuelita cumpla 89, ahora tiene 88 años\n",
            "Cuento hasta que la abuelita cumpla 89, ahora tiene 89 años\n"
          ],
          "name": "stdout"
        }
      ]
    },
    {
      "cell_type": "code",
      "metadata": {
        "id": "Y-3L88qEAK6l",
        "colab": {
          "base_uri": "https://localhost:8080/"
        },
        "outputId": "607eb6ea-dc10-4d8d-b79b-64420e18a347"
      },
      "source": [
        "# Ejemplo de ciclo for\n",
        "amigues = ['Carla', 'Nicolas', 'Eusebio', 'Hermenegilda']\n",
        "\n",
        "for amigue in amigues: # Itero sobre cada 'amigue', es decir, sobre cada elemento de la lista 'amigues'\n",
        "  print('Hola ' + amigue)"
      ],
      "execution_count": 20,
      "outputs": [
        {
          "output_type": "stream",
          "text": [
            "Hola Carla\n",
            "Hola Nicolas\n",
            "Hola Eusebio\n",
            "Hola Hermenegilda\n"
          ],
          "name": "stdout"
        }
      ]
    },
    {
      "cell_type": "markdown",
      "metadata": {
        "id": "VO4OTcAJ1uoR"
      },
      "source": [
        ""
      ]
    }
  ]
}