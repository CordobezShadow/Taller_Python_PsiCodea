{
  "nbformat": 4,
  "nbformat_minor": 0,
  "metadata": {
    "colab": {
      "name": "PsiCodea día 2.ipynb",
      "provenance": [],
      "collapsed_sections": [],
      "include_colab_link": true
    },
    "kernelspec": {
      "name": "python3",
      "display_name": "Python 3"
    }
  },
  "cells": [
    {
      "cell_type": "markdown",
      "metadata": {
        "id": "view-in-github",
        "colab_type": "text"
      },
      "source": [
        "<a href=\"https://colab.research.google.com/github/GEJ1/Taller_Python_PsiCodea/blob/main/PsiCodea_d%C3%ADa_2.ipynb\" target=\"_parent\"><img src=\"https://colab.research.google.com/assets/colab-badge.svg\" alt=\"Open In Colab\"/></a>"
      ]
    },
    {
      "cell_type": "markdown",
      "metadata": {
        "id": "uRZpqBtrwEnu"
      },
      "source": [
        "Listita de cosas para hacer:\n",
        "*   Limpiar datos para que no haya tantas columnas\n",
        "*   Armar ejemplitos de cosas con un toy data\n",
        "*   Agregar descripción del experimento (podemos meter el link y hacer la prueba en vivo)\n",
        "*   Explicar un poco más de las librerías?\n",
        "*   Agregar links a documentación de las librerías\n",
        "\n",
        "\n"
      ]
    },
    {
      "cell_type": "markdown",
      "metadata": {
        "id": "JVpsmVvOqx28"
      },
      "source": [
        "# Importando las librerías\n",
        "\n",
        "* Importar una librería es como ir a buscar la caja de herramientas y ponerla sobre una mesa de trabajo lista para que su contenido sea utilizado.\n",
        "\n",
        "* Las librerías (del inglés *library* que significa biblioteca pero nadie les dice así) son bloques de código que están agrupados para cumplir una función o conjunto de funciones.\n",
        "\n",
        "* En este caso vamos a hacer uso de las siguientes:\n",
        "  * **Numpy**: Librería para álgebra lineal. Nos permitirá, entre otras cosas, utilizar arreglos (*arrays*) y por lo tanto potenciar nuetras capacidades matemáticas. \n",
        "  * **Pandas** : Para trabajar con *data frames*, un tipo de dato similar a una tabla de excel.\n",
        "  * **matplotlib**: Para realizar gráficos y visualizaciones en general.\n",
        "  * **scipy** : Para análisis estadístico."
      ]
    },
    {
      "cell_type": "code",
      "metadata": {
        "id": "avuARmpwu3IJ"
      },
      "source": [
        ""
      ],
      "execution_count": null,
      "outputs": []
    },
    {
      "cell_type": "code",
      "metadata": {
        "id": "weZWbVdx_cyC"
      },
      "source": [
        "# Sintaxis para importar librerias, el \"as\" es una manera de definirla con un nombre mas sencillo, pero no es obligatorio.\n",
        "import numpy as np\n",
        "import pandas as pd\n",
        "from matplotlib import pyplot as plt\n",
        "from scipy import stats"
      ],
      "execution_count": null,
      "outputs": []
    },
    {
      "cell_type": "code",
      "metadata": {
        "id": "oY2wF9xTyahN",
        "colab": {
          "base_uri": "https://localhost:8080/",
          "height": 336
        },
        "outputId": "db2d2309-46da-4e52-de42-814d143243db"
      },
      "source": [
        "# @title Video para musicalizar el aprendizaje y mostrar que en Google Colab se puede insertar prácticamente cualquier tipo de contenido. Dale doble click a esta celda para ver el código.\n",
        "\n",
        "from IPython.display import HTML\n",
        "\n",
        "HTML('<iframe width=\"560\" height=\"315\" src=\"https://www.youtube.com/embed/D2yymMhjRu8\" frameborder=\"0\" allow=\"accelerometer; autoplay; clipboard-write; encrypted-media; gyroscope; picture-in-picture\" allowfullscreen></iframe>')"
      ],
      "execution_count": null,
      "outputs": [
        {
          "output_type": "execute_result",
          "data": {
            "text/html": [
              "<iframe width=\"560\" height=\"315\" src=\"https://www.youtube.com/embed/D2yymMhjRu8\" frameborder=\"0\" allow=\"accelerometer; autoplay; clipboard-write; encrypted-media; gyroscope; picture-in-picture\" allowfullscreen></iframe>"
            ],
            "text/plain": [
              "<IPython.core.display.HTML object>"
            ]
          },
          "metadata": {
            "tags": []
          },
          "execution_count": 2
        }
      ]
    },
    {
      "cell_type": "markdown",
      "metadata": {
        "id": "0mz3cGJstYHo"
      },
      "source": [
        "# Manos a la data!\n",
        "\n",
        "Vamos a trabajar con los datos de un experimento online muy sencillo que involucra percepción y tiempos de reaccción.\n",
        "\n",
        "* La tarea consistía en presionar la tecla j si aparecía en la pantalla un círculo naranja y la tecla f si aparecía un círculo azul. Los estímulos aparecían solo durante una fracción de segundo.\n",
        "\n",
        "<center>\n",
        "<img width=\"500\" height=\"auto\" src=\"https://miro.medium.com/max/729/1*KBXJ2QKaHUgrxLZaHxuksA.png\"> \n",
        "<p>Fuente: https://www.jspsych.org/tutorials/rt-task/</p>\n",
        "</center>\n",
        "\n",
        "* Los datos que van a estar ordenados de la siguiente manera:\n",
        "  * Cada fila corresponde a la presentación de un círculo\n",
        "  * Tendremos las columnas: \n"
      ]
    },
    {
      "cell_type": "markdown",
      "metadata": {
        "id": "A7Ho3iQ84Tzv"
      },
      "source": [
        "# Montamos nuestro drive en Colab"
      ]
    },
    {
      "cell_type": "code",
      "metadata": {
        "id": "ooWsd1ApUvlp",
        "colab": {
          "base_uri": "https://localhost:8080/"
        },
        "outputId": "d868901e-7a2b-4a02-bdcb-eb2c2cfbd853"
      },
      "source": [
        "from google.colab import drive\n",
        "drive.mount('/content/drive')"
      ],
      "execution_count": null,
      "outputs": [
        {
          "output_type": "stream",
          "text": [
            "Drive already mounted at /content/drive; to attempt to forcibly remount, call drive.mount(\"/content/drive\", force_remount=True).\n"
          ],
          "name": "stdout"
        }
      ]
    },
    {
      "cell_type": "markdown",
      "metadata": {
        "id": "Je3auXOf4Zua"
      },
      "source": [
        "# Cargamos nuestro archivo\n",
        "### Podes descargarlo de Github desde [acá](https://github.com/GEJ1/Tutoriales_jsPsych/blob/master/go-no-go.csv)\n",
        "\n",
        "### O si no están muy familiarizados con git pueden bajar el .zip desde [acá](https://minhaskamal.github.io/DownGit/#/home?url=https:%2F%2Fgithub.com%2FGEJ1%2FTutoriales_jsPsych%2Fblob%2Fmaster%2Fgo-no-go.csv), pero no se olviden de descompromirlo porque lo necesitamos en formato .csv"
      ]
    },
    {
      "cell_type": "code",
      "metadata": {
        "id": "YnVtWROy_3FM"
      },
      "source": [
        "# Creamos nuestro DataFrame con los datos de nuestro experimento\n",
        "# Esta es la salida del experimento de go no go, tal cual como sale de la página donde tenemos subido el experimento.\n",
        "df = pd.read_csv('/content/drive/MyDrive/datos_de_mi_experimento/go-no-go.csv')"
      ],
      "execution_count": null,
      "outputs": []
    },
    {
      "cell_type": "code",
      "metadata": {
        "id": "4uhw8blVZf--",
        "colab": {
          "base_uri": "https://localhost:8080/"
        },
        "outputId": "286ee072-c217-49a1-f001-cd6275bad32b"
      },
      "source": [
        "# Dimensiones descriptas en formato (filas, columnas)\n",
        "df.shape"
      ],
      "execution_count": null,
      "outputs": [
        {
          "output_type": "execute_result",
          "data": {
            "text/plain": [
              "(24, 21)"
            ]
          },
          "metadata": {
            "tags": []
          },
          "execution_count": 9
        }
      ]
    },
    {
      "cell_type": "code",
      "metadata": {
        "id": "rjZ8uqdxAy8K",
        "colab": {
          "base_uri": "https://localhost:8080/",
          "height": 1000
        },
        "outputId": "a26bd687-b441-439e-a517-f0f99404d63d"
      },
      "source": [
        "#Miramos los primeros 5 valores\n",
        "df"
      ],
      "execution_count": null,
      "outputs": [
        {
          "output_type": "execute_result",
          "data": {
            "text/html": [
              "<div>\n",
              "<style scoped>\n",
              "    .dataframe tbody tr th:only-of-type {\n",
              "        vertical-align: middle;\n",
              "    }\n",
              "\n",
              "    .dataframe tbody tr th {\n",
              "        vertical-align: top;\n",
              "    }\n",
              "\n",
              "    .dataframe thead th {\n",
              "        text-align: right;\n",
              "    }\n",
              "</style>\n",
              "<table border=\"1\" class=\"dataframe\">\n",
              "  <thead>\n",
              "    <tr style=\"text-align: right;\">\n",
              "      <th></th>\n",
              "      <th>run_id</th>\n",
              "      <th>condition</th>\n",
              "      <th>rt</th>\n",
              "      <th>stimulus</th>\n",
              "      <th>key_press</th>\n",
              "      <th>trial_type</th>\n",
              "      <th>trial_index</th>\n",
              "      <th>time_elapsed</th>\n",
              "      <th>internal_node_id</th>\n",
              "      <th>success</th>\n",
              "      <th>test_part</th>\n",
              "      <th>correct_response</th>\n",
              "      <th>correct</th>\n",
              "      <th>recorded_at</th>\n",
              "      <th>ip</th>\n",
              "      <th>user_agent</th>\n",
              "      <th>device</th>\n",
              "      <th>browser</th>\n",
              "      <th>browser_version</th>\n",
              "      <th>platform</th>\n",
              "      <th>platform_version</th>\n",
              "    </tr>\n",
              "  </thead>\n",
              "  <tbody>\n",
              "    <tr>\n",
              "      <th>0</th>\n",
              "      <td>38</td>\n",
              "      <td>1</td>\n",
              "      <td>2033.0200000025798</td>\n",
              "      <td>Welcome to the experiment. Press any key to be...</td>\n",
              "      <td>32</td>\n",
              "      <td>html-keyboard-response</td>\n",
              "      <td>0</td>\n",
              "      <td>2087</td>\n",
              "      <td>0.0-0.0</td>\n",
              "      <td>\"</td>\n",
              "      <td>\"</td>\n",
              "      <td>\"</td>\n",
              "      <td>\"</td>\n",
              "      <td>2020-09-21 03:38:08</td>\n",
              "      <td>181.164.53.97</td>\n",
              "      <td>Mozilla/5.0 (Windows NT 10.0; Win64; x64) Appl...</td>\n",
              "      <td>WebKit</td>\n",
              "      <td>Chrome</td>\n",
              "      <td>85.0.4183.102</td>\n",
              "      <td>Windows</td>\n",
              "      <td>10.0</td>\n",
              "    </tr>\n",
              "    <tr>\n",
              "      <th>1</th>\n",
              "      <td>38</td>\n",
              "      <td>1</td>\n",
              "      <td>\"</td>\n",
              "      <td>\"</td>\n",
              "      <td>\"</td>\n",
              "      <td>fullscreen</td>\n",
              "      <td>1</td>\n",
              "      <td>4559</td>\n",
              "      <td>0.0-1.0</td>\n",
              "      <td>true</td>\n",
              "      <td>\"</td>\n",
              "      <td>\"</td>\n",
              "      <td>\"</td>\n",
              "      <td>2020-09-21 03:38:08</td>\n",
              "      <td>181.164.53.97</td>\n",
              "      <td>Mozilla/5.0 (Windows NT 10.0; Win64; x64) Appl...</td>\n",
              "      <td>WebKit</td>\n",
              "      <td>Chrome</td>\n",
              "      <td>85.0.4183.102</td>\n",
              "      <td>Windows</td>\n",
              "      <td>10.0</td>\n",
              "    </tr>\n",
              "    <tr>\n",
              "      <th>2</th>\n",
              "      <td>38</td>\n",
              "      <td>1</td>\n",
              "      <td>13162.125000002561</td>\n",
              "      <td>&lt;p&gt;In this experiment, a circle will appear in...</td>\n",
              "      <td>32</td>\n",
              "      <td>html-keyboard-response</td>\n",
              "      <td>2</td>\n",
              "      <td>17722</td>\n",
              "      <td>0.0-2.0</td>\n",
              "      <td>\"</td>\n",
              "      <td>\"</td>\n",
              "      <td>\"</td>\n",
              "      <td>\"</td>\n",
              "      <td>2020-09-21 03:38:08</td>\n",
              "      <td>181.164.53.97</td>\n",
              "      <td>Mozilla/5.0 (Windows NT 10.0; Win64; x64) Appl...</td>\n",
              "      <td>WebKit</td>\n",
              "      <td>Chrome</td>\n",
              "      <td>85.0.4183.102</td>\n",
              "      <td>Windows</td>\n",
              "      <td>10.0</td>\n",
              "    </tr>\n",
              "    <tr>\n",
              "      <th>3</th>\n",
              "      <td>38</td>\n",
              "      <td>1</td>\n",
              "      <td>NaN</td>\n",
              "      <td>&lt;div style=\"font-size:60px;\"&gt;+&lt;/div&gt;</td>\n",
              "      <td>NaN</td>\n",
              "      <td>html-keyboard-response</td>\n",
              "      <td>3</td>\n",
              "      <td>20227</td>\n",
              "      <td>0.0-3.0-0.0</td>\n",
              "      <td>\"</td>\n",
              "      <td>fixation</td>\n",
              "      <td>\"</td>\n",
              "      <td>\"</td>\n",
              "      <td>2020-09-21 03:38:08</td>\n",
              "      <td>181.164.53.97</td>\n",
              "      <td>Mozilla/5.0 (Windows NT 10.0; Win64; x64) Appl...</td>\n",
              "      <td>WebKit</td>\n",
              "      <td>Chrome</td>\n",
              "      <td>85.0.4183.102</td>\n",
              "      <td>Windows</td>\n",
              "      <td>10.0</td>\n",
              "    </tr>\n",
              "    <tr>\n",
              "      <th>4</th>\n",
              "      <td>38</td>\n",
              "      <td>1</td>\n",
              "      <td>466.5249999961816</td>\n",
              "      <td>img/orange.png</td>\n",
              "      <td>74</td>\n",
              "      <td>image-keyboard-response</td>\n",
              "      <td>4</td>\n",
              "      <td>20695</td>\n",
              "      <td>0.0-3.0-1.0</td>\n",
              "      <td>\"</td>\n",
              "      <td>test</td>\n",
              "      <td>j</td>\n",
              "      <td>true</td>\n",
              "      <td>2020-09-21 03:38:08</td>\n",
              "      <td>181.164.53.97</td>\n",
              "      <td>Mozilla/5.0 (Windows NT 10.0; Win64; x64) Appl...</td>\n",
              "      <td>WebKit</td>\n",
              "      <td>Chrome</td>\n",
              "      <td>85.0.4183.102</td>\n",
              "      <td>Windows</td>\n",
              "      <td>10.0</td>\n",
              "    </tr>\n",
              "    <tr>\n",
              "      <th>5</th>\n",
              "      <td>38</td>\n",
              "      <td>1</td>\n",
              "      <td>NaN</td>\n",
              "      <td>&lt;div style=\"font-size:60px;\"&gt;+&lt;/div&gt;</td>\n",
              "      <td>NaN</td>\n",
              "      <td>html-keyboard-response</td>\n",
              "      <td>5</td>\n",
              "      <td>22448</td>\n",
              "      <td>0.0-3.0-0.1</td>\n",
              "      <td>\"</td>\n",
              "      <td>fixation</td>\n",
              "      <td>\"</td>\n",
              "      <td>\"</td>\n",
              "      <td>2020-09-21 03:38:08</td>\n",
              "      <td>181.164.53.97</td>\n",
              "      <td>Mozilla/5.0 (Windows NT 10.0; Win64; x64) Appl...</td>\n",
              "      <td>WebKit</td>\n",
              "      <td>Chrome</td>\n",
              "      <td>85.0.4183.102</td>\n",
              "      <td>Windows</td>\n",
              "      <td>10.0</td>\n",
              "    </tr>\n",
              "    <tr>\n",
              "      <th>6</th>\n",
              "      <td>38</td>\n",
              "      <td>1</td>\n",
              "      <td>464.14999999979045</td>\n",
              "      <td>img/blue.png</td>\n",
              "      <td>70</td>\n",
              "      <td>image-keyboard-response</td>\n",
              "      <td>6</td>\n",
              "      <td>22913</td>\n",
              "      <td>0.0-3.0-1.1</td>\n",
              "      <td>\"</td>\n",
              "      <td>test</td>\n",
              "      <td>f</td>\n",
              "      <td>true</td>\n",
              "      <td>2020-09-21 03:38:08</td>\n",
              "      <td>181.164.53.97</td>\n",
              "      <td>Mozilla/5.0 (Windows NT 10.0; Win64; x64) Appl...</td>\n",
              "      <td>WebKit</td>\n",
              "      <td>Chrome</td>\n",
              "      <td>85.0.4183.102</td>\n",
              "      <td>Windows</td>\n",
              "      <td>10.0</td>\n",
              "    </tr>\n",
              "    <tr>\n",
              "      <th>7</th>\n",
              "      <td>38</td>\n",
              "      <td>1</td>\n",
              "      <td>NaN</td>\n",
              "      <td>&lt;div style=\"font-size:60px;\"&gt;+&lt;/div&gt;</td>\n",
              "      <td>NaN</td>\n",
              "      <td>html-keyboard-response</td>\n",
              "      <td>7</td>\n",
              "      <td>23914</td>\n",
              "      <td>0.0-3.0-0.2</td>\n",
              "      <td>\"</td>\n",
              "      <td>fixation</td>\n",
              "      <td>\"</td>\n",
              "      <td>\"</td>\n",
              "      <td>2020-09-21 03:38:08</td>\n",
              "      <td>181.164.53.97</td>\n",
              "      <td>Mozilla/5.0 (Windows NT 10.0; Win64; x64) Appl...</td>\n",
              "      <td>WebKit</td>\n",
              "      <td>Chrome</td>\n",
              "      <td>85.0.4183.102</td>\n",
              "      <td>Windows</td>\n",
              "      <td>10.0</td>\n",
              "    </tr>\n",
              "    <tr>\n",
              "      <th>8</th>\n",
              "      <td>38</td>\n",
              "      <td>1</td>\n",
              "      <td>617.9200000042329</td>\n",
              "      <td>img/blue.png</td>\n",
              "      <td>70</td>\n",
              "      <td>image-keyboard-response</td>\n",
              "      <td>8</td>\n",
              "      <td>24535</td>\n",
              "      <td>0.0-3.0-1.2</td>\n",
              "      <td>\"</td>\n",
              "      <td>test</td>\n",
              "      <td>f</td>\n",
              "      <td>true</td>\n",
              "      <td>2020-09-21 03:38:08</td>\n",
              "      <td>181.164.53.97</td>\n",
              "      <td>Mozilla/5.0 (Windows NT 10.0; Win64; x64) Appl...</td>\n",
              "      <td>WebKit</td>\n",
              "      <td>Chrome</td>\n",
              "      <td>85.0.4183.102</td>\n",
              "      <td>Windows</td>\n",
              "      <td>10.0</td>\n",
              "    </tr>\n",
              "    <tr>\n",
              "      <th>9</th>\n",
              "      <td>38</td>\n",
              "      <td>1</td>\n",
              "      <td>NaN</td>\n",
              "      <td>&lt;div style=\"font-size:60px;\"&gt;+&lt;/div&gt;</td>\n",
              "      <td>NaN</td>\n",
              "      <td>html-keyboard-response</td>\n",
              "      <td>9</td>\n",
              "      <td>26286</td>\n",
              "      <td>0.0-3.0-0.3</td>\n",
              "      <td>\"</td>\n",
              "      <td>fixation</td>\n",
              "      <td>\"</td>\n",
              "      <td>\"</td>\n",
              "      <td>2020-09-21 03:38:08</td>\n",
              "      <td>181.164.53.97</td>\n",
              "      <td>Mozilla/5.0 (Windows NT 10.0; Win64; x64) Appl...</td>\n",
              "      <td>WebKit</td>\n",
              "      <td>Chrome</td>\n",
              "      <td>85.0.4183.102</td>\n",
              "      <td>Windows</td>\n",
              "      <td>10.0</td>\n",
              "    </tr>\n",
              "    <tr>\n",
              "      <th>10</th>\n",
              "      <td>38</td>\n",
              "      <td>1</td>\n",
              "      <td>487.3900000093272</td>\n",
              "      <td>img/orange.png</td>\n",
              "      <td>74</td>\n",
              "      <td>image-keyboard-response</td>\n",
              "      <td>10</td>\n",
              "      <td>26774</td>\n",
              "      <td>0.0-3.0-1.3</td>\n",
              "      <td>\"</td>\n",
              "      <td>test</td>\n",
              "      <td>j</td>\n",
              "      <td>true</td>\n",
              "      <td>2020-09-21 03:38:08</td>\n",
              "      <td>181.164.53.97</td>\n",
              "      <td>Mozilla/5.0 (Windows NT 10.0; Win64; x64) Appl...</td>\n",
              "      <td>WebKit</td>\n",
              "      <td>Chrome</td>\n",
              "      <td>85.0.4183.102</td>\n",
              "      <td>Windows</td>\n",
              "      <td>10.0</td>\n",
              "    </tr>\n",
              "    <tr>\n",
              "      <th>11</th>\n",
              "      <td>38</td>\n",
              "      <td>1</td>\n",
              "      <td>NaN</td>\n",
              "      <td>&lt;div style=\"font-size:60px;\"&gt;+&lt;/div&gt;</td>\n",
              "      <td>NaN</td>\n",
              "      <td>html-keyboard-response</td>\n",
              "      <td>11</td>\n",
              "      <td>28027</td>\n",
              "      <td>0.0-3.0-0.4</td>\n",
              "      <td>\"</td>\n",
              "      <td>fixation</td>\n",
              "      <td>\"</td>\n",
              "      <td>\"</td>\n",
              "      <td>2020-09-21 03:38:08</td>\n",
              "      <td>181.164.53.97</td>\n",
              "      <td>Mozilla/5.0 (Windows NT 10.0; Win64; x64) Appl...</td>\n",
              "      <td>WebKit</td>\n",
              "      <td>Chrome</td>\n",
              "      <td>85.0.4183.102</td>\n",
              "      <td>Windows</td>\n",
              "      <td>10.0</td>\n",
              "    </tr>\n",
              "    <tr>\n",
              "      <th>12</th>\n",
              "      <td>38</td>\n",
              "      <td>1</td>\n",
              "      <td>355.0799999939045</td>\n",
              "      <td>img/orange.png</td>\n",
              "      <td>74</td>\n",
              "      <td>image-keyboard-response</td>\n",
              "      <td>12</td>\n",
              "      <td>28383</td>\n",
              "      <td>0.0-3.0-1.4</td>\n",
              "      <td>\"</td>\n",
              "      <td>test</td>\n",
              "      <td>j</td>\n",
              "      <td>true</td>\n",
              "      <td>2020-09-21 03:38:08</td>\n",
              "      <td>181.164.53.97</td>\n",
              "      <td>Mozilla/5.0 (Windows NT 10.0; Win64; x64) Appl...</td>\n",
              "      <td>WebKit</td>\n",
              "      <td>Chrome</td>\n",
              "      <td>85.0.4183.102</td>\n",
              "      <td>Windows</td>\n",
              "      <td>10.0</td>\n",
              "    </tr>\n",
              "    <tr>\n",
              "      <th>13</th>\n",
              "      <td>38</td>\n",
              "      <td>1</td>\n",
              "      <td>NaN</td>\n",
              "      <td>&lt;div style=\"font-size:60px;\"&gt;+&lt;/div&gt;</td>\n",
              "      <td>NaN</td>\n",
              "      <td>html-keyboard-response</td>\n",
              "      <td>13</td>\n",
              "      <td>28635</td>\n",
              "      <td>0.0-3.0-0.5</td>\n",
              "      <td>\"</td>\n",
              "      <td>fixation</td>\n",
              "      <td>\"</td>\n",
              "      <td>\"</td>\n",
              "      <td>2020-09-21 03:38:08</td>\n",
              "      <td>181.164.53.97</td>\n",
              "      <td>Mozilla/5.0 (Windows NT 10.0; Win64; x64) Appl...</td>\n",
              "      <td>WebKit</td>\n",
              "      <td>Chrome</td>\n",
              "      <td>85.0.4183.102</td>\n",
              "      <td>Windows</td>\n",
              "      <td>10.0</td>\n",
              "    </tr>\n",
              "    <tr>\n",
              "      <th>14</th>\n",
              "      <td>38</td>\n",
              "      <td>1</td>\n",
              "      <td>444.5150000101421</td>\n",
              "      <td>img/blue.png</td>\n",
              "      <td>70</td>\n",
              "      <td>image-keyboard-response</td>\n",
              "      <td>14</td>\n",
              "      <td>29080</td>\n",
              "      <td>0.0-3.0-1.5</td>\n",
              "      <td>\"</td>\n",
              "      <td>test</td>\n",
              "      <td>f</td>\n",
              "      <td>true</td>\n",
              "      <td>2020-09-21 03:38:08</td>\n",
              "      <td>181.164.53.97</td>\n",
              "      <td>Mozilla/5.0 (Windows NT 10.0; Win64; x64) Appl...</td>\n",
              "      <td>WebKit</td>\n",
              "      <td>Chrome</td>\n",
              "      <td>85.0.4183.102</td>\n",
              "      <td>Windows</td>\n",
              "      <td>10.0</td>\n",
              "    </tr>\n",
              "    <tr>\n",
              "      <th>15</th>\n",
              "      <td>38</td>\n",
              "      <td>1</td>\n",
              "      <td>NaN</td>\n",
              "      <td>&lt;div style=\"font-size:60px;\"&gt;+&lt;/div&gt;</td>\n",
              "      <td>NaN</td>\n",
              "      <td>html-keyboard-response</td>\n",
              "      <td>15</td>\n",
              "      <td>29832</td>\n",
              "      <td>0.0-3.0-0.6</td>\n",
              "      <td>\"</td>\n",
              "      <td>fixation</td>\n",
              "      <td>\"</td>\n",
              "      <td>\"</td>\n",
              "      <td>2020-09-21 03:38:08</td>\n",
              "      <td>181.164.53.97</td>\n",
              "      <td>Mozilla/5.0 (Windows NT 10.0; Win64; x64) Appl...</td>\n",
              "      <td>WebKit</td>\n",
              "      <td>Chrome</td>\n",
              "      <td>85.0.4183.102</td>\n",
              "      <td>Windows</td>\n",
              "      <td>10.0</td>\n",
              "    </tr>\n",
              "    <tr>\n",
              "      <th>16</th>\n",
              "      <td>38</td>\n",
              "      <td>1</td>\n",
              "      <td>936.4900000073249</td>\n",
              "      <td>img/blue.png</td>\n",
              "      <td>70</td>\n",
              "      <td>image-keyboard-response</td>\n",
              "      <td>16</td>\n",
              "      <td>30771</td>\n",
              "      <td>0.0-3.0-1.6</td>\n",
              "      <td>\"</td>\n",
              "      <td>test</td>\n",
              "      <td>f</td>\n",
              "      <td>true</td>\n",
              "      <td>2020-09-21 03:38:08</td>\n",
              "      <td>181.164.53.97</td>\n",
              "      <td>Mozilla/5.0 (Windows NT 10.0; Win64; x64) Appl...</td>\n",
              "      <td>WebKit</td>\n",
              "      <td>Chrome</td>\n",
              "      <td>85.0.4183.102</td>\n",
              "      <td>Windows</td>\n",
              "      <td>10.0</td>\n",
              "    </tr>\n",
              "    <tr>\n",
              "      <th>17</th>\n",
              "      <td>38</td>\n",
              "      <td>1</td>\n",
              "      <td>NaN</td>\n",
              "      <td>&lt;div style=\"font-size:60px;\"&gt;+&lt;/div&gt;</td>\n",
              "      <td>NaN</td>\n",
              "      <td>html-keyboard-response</td>\n",
              "      <td>17</td>\n",
              "      <td>31522</td>\n",
              "      <td>0.0-3.0-0.7</td>\n",
              "      <td>\"</td>\n",
              "      <td>fixation</td>\n",
              "      <td>\"</td>\n",
              "      <td>\"</td>\n",
              "      <td>2020-09-21 03:38:08</td>\n",
              "      <td>181.164.53.97</td>\n",
              "      <td>Mozilla/5.0 (Windows NT 10.0; Win64; x64) Appl...</td>\n",
              "      <td>WebKit</td>\n",
              "      <td>Chrome</td>\n",
              "      <td>85.0.4183.102</td>\n",
              "      <td>Windows</td>\n",
              "      <td>10.0</td>\n",
              "    </tr>\n",
              "    <tr>\n",
              "      <th>18</th>\n",
              "      <td>38</td>\n",
              "      <td>1</td>\n",
              "      <td>431.1349999916274</td>\n",
              "      <td>img/orange.png</td>\n",
              "      <td>74</td>\n",
              "      <td>image-keyboard-response</td>\n",
              "      <td>18</td>\n",
              "      <td>31954</td>\n",
              "      <td>0.0-3.0-1.7</td>\n",
              "      <td>\"</td>\n",
              "      <td>test</td>\n",
              "      <td>j</td>\n",
              "      <td>true</td>\n",
              "      <td>2020-09-21 03:38:08</td>\n",
              "      <td>181.164.53.97</td>\n",
              "      <td>Mozilla/5.0 (Windows NT 10.0; Win64; x64) Appl...</td>\n",
              "      <td>WebKit</td>\n",
              "      <td>Chrome</td>\n",
              "      <td>85.0.4183.102</td>\n",
              "      <td>Windows</td>\n",
              "      <td>10.0</td>\n",
              "    </tr>\n",
              "    <tr>\n",
              "      <th>19</th>\n",
              "      <td>38</td>\n",
              "      <td>1</td>\n",
              "      <td>NaN</td>\n",
              "      <td>&lt;div style=\"font-size:60px;\"&gt;+&lt;/div&gt;</td>\n",
              "      <td>NaN</td>\n",
              "      <td>html-keyboard-response</td>\n",
              "      <td>19</td>\n",
              "      <td>33207</td>\n",
              "      <td>0.0-3.0-0.8</td>\n",
              "      <td>\"</td>\n",
              "      <td>fixation</td>\n",
              "      <td>\"</td>\n",
              "      <td>\"</td>\n",
              "      <td>2020-09-21 03:38:08</td>\n",
              "      <td>181.164.53.97</td>\n",
              "      <td>Mozilla/5.0 (Windows NT 10.0; Win64; x64) Appl...</td>\n",
              "      <td>WebKit</td>\n",
              "      <td>Chrome</td>\n",
              "      <td>85.0.4183.102</td>\n",
              "      <td>Windows</td>\n",
              "      <td>10.0</td>\n",
              "    </tr>\n",
              "    <tr>\n",
              "      <th>20</th>\n",
              "      <td>38</td>\n",
              "      <td>1</td>\n",
              "      <td>472.01500000664964</td>\n",
              "      <td>img/orange.png</td>\n",
              "      <td>74</td>\n",
              "      <td>image-keyboard-response</td>\n",
              "      <td>20</td>\n",
              "      <td>33681</td>\n",
              "      <td>0.0-3.0-1.8</td>\n",
              "      <td>\"</td>\n",
              "      <td>test</td>\n",
              "      <td>j</td>\n",
              "      <td>true</td>\n",
              "      <td>2020-09-21 03:38:08</td>\n",
              "      <td>181.164.53.97</td>\n",
              "      <td>Mozilla/5.0 (Windows NT 10.0; Win64; x64) Appl...</td>\n",
              "      <td>WebKit</td>\n",
              "      <td>Chrome</td>\n",
              "      <td>85.0.4183.102</td>\n",
              "      <td>Windows</td>\n",
              "      <td>10.0</td>\n",
              "    </tr>\n",
              "    <tr>\n",
              "      <th>21</th>\n",
              "      <td>38</td>\n",
              "      <td>1</td>\n",
              "      <td>NaN</td>\n",
              "      <td>&lt;div style=\"font-size:60px;\"&gt;+&lt;/div&gt;</td>\n",
              "      <td>NaN</td>\n",
              "      <td>html-keyboard-response</td>\n",
              "      <td>21</td>\n",
              "      <td>34932</td>\n",
              "      <td>0.0-3.0-0.9</td>\n",
              "      <td>\"</td>\n",
              "      <td>fixation</td>\n",
              "      <td>\"</td>\n",
              "      <td>\"</td>\n",
              "      <td>2020-09-21 03:38:08</td>\n",
              "      <td>181.164.53.97</td>\n",
              "      <td>Mozilla/5.0 (Windows NT 10.0; Win64; x64) Appl...</td>\n",
              "      <td>WebKit</td>\n",
              "      <td>Chrome</td>\n",
              "      <td>85.0.4183.102</td>\n",
              "      <td>Windows</td>\n",
              "      <td>10.0</td>\n",
              "    </tr>\n",
              "    <tr>\n",
              "      <th>22</th>\n",
              "      <td>38</td>\n",
              "      <td>1</td>\n",
              "      <td>572.1650000050431</td>\n",
              "      <td>img/blue.png</td>\n",
              "      <td>70</td>\n",
              "      <td>image-keyboard-response</td>\n",
              "      <td>22</td>\n",
              "      <td>35505</td>\n",
              "      <td>0.0-3.0-1.9</td>\n",
              "      <td>\"</td>\n",
              "      <td>test</td>\n",
              "      <td>f</td>\n",
              "      <td>true</td>\n",
              "      <td>2020-09-21 03:38:08</td>\n",
              "      <td>181.164.53.97</td>\n",
              "      <td>Mozilla/5.0 (Windows NT 10.0; Win64; x64) Appl...</td>\n",
              "      <td>WebKit</td>\n",
              "      <td>Chrome</td>\n",
              "      <td>85.0.4183.102</td>\n",
              "      <td>Windows</td>\n",
              "      <td>10.0</td>\n",
              "    </tr>\n",
              "    <tr>\n",
              "      <th>23</th>\n",
              "      <td>38</td>\n",
              "      <td>1</td>\n",
              "      <td>46.379999999771826</td>\n",
              "      <td>&lt;p&gt;You responded correctly on 100% of the tria...</td>\n",
              "      <td>67</td>\n",
              "      <td>html-keyboard-response</td>\n",
              "      <td>23</td>\n",
              "      <td>35553</td>\n",
              "      <td>0.0-4.0</td>\n",
              "      <td>\"</td>\n",
              "      <td>\"</td>\n",
              "      <td>\"</td>\n",
              "      <td>\"</td>\n",
              "      <td>2020-09-21 03:38:08</td>\n",
              "      <td>181.164.53.97</td>\n",
              "      <td>Mozilla/5.0 (Windows NT 10.0; Win64; x64) Appl...</td>\n",
              "      <td>WebKit</td>\n",
              "      <td>Chrome</td>\n",
              "      <td>85.0.4183.102</td>\n",
              "      <td>Windows</td>\n",
              "      <td>10.0</td>\n",
              "    </tr>\n",
              "  </tbody>\n",
              "</table>\n",
              "</div>"
            ],
            "text/plain": [
              "    run_id  condition  ... platform platform_version\n",
              "0       38          1  ...  Windows             10.0\n",
              "1       38          1  ...  Windows             10.0\n",
              "2       38          1  ...  Windows             10.0\n",
              "3       38          1  ...  Windows             10.0\n",
              "4       38          1  ...  Windows             10.0\n",
              "5       38          1  ...  Windows             10.0\n",
              "6       38          1  ...  Windows             10.0\n",
              "7       38          1  ...  Windows             10.0\n",
              "8       38          1  ...  Windows             10.0\n",
              "9       38          1  ...  Windows             10.0\n",
              "10      38          1  ...  Windows             10.0\n",
              "11      38          1  ...  Windows             10.0\n",
              "12      38          1  ...  Windows             10.0\n",
              "13      38          1  ...  Windows             10.0\n",
              "14      38          1  ...  Windows             10.0\n",
              "15      38          1  ...  Windows             10.0\n",
              "16      38          1  ...  Windows             10.0\n",
              "17      38          1  ...  Windows             10.0\n",
              "18      38          1  ...  Windows             10.0\n",
              "19      38          1  ...  Windows             10.0\n",
              "20      38          1  ...  Windows             10.0\n",
              "21      38          1  ...  Windows             10.0\n",
              "22      38          1  ...  Windows             10.0\n",
              "23      38          1  ...  Windows             10.0\n",
              "\n",
              "[24 rows x 21 columns]"
            ]
          },
          "metadata": {
            "tags": []
          },
          "execution_count": 10
        }
      ]
    },
    {
      "cell_type": "code",
      "metadata": {
        "id": "ofclV2vzzEmL",
        "colab": {
          "base_uri": "https://localhost:8080/",
          "height": 297
        },
        "outputId": "09ee3130-ac8c-4214-f882-7e82a3873152"
      },
      "source": [
        "#Comando para estadísticas basicas\n",
        "df.describe()"
      ],
      "execution_count": null,
      "outputs": [
        {
          "output_type": "execute_result",
          "data": {
            "text/html": [
              "<div>\n",
              "<style scoped>\n",
              "    .dataframe tbody tr th:only-of-type {\n",
              "        vertical-align: middle;\n",
              "    }\n",
              "\n",
              "    .dataframe tbody tr th {\n",
              "        vertical-align: top;\n",
              "    }\n",
              "\n",
              "    .dataframe thead th {\n",
              "        text-align: right;\n",
              "    }\n",
              "</style>\n",
              "<table border=\"1\" class=\"dataframe\">\n",
              "  <thead>\n",
              "    <tr style=\"text-align: right;\">\n",
              "      <th></th>\n",
              "      <th>run_id</th>\n",
              "      <th>condition</th>\n",
              "      <th>trial_index</th>\n",
              "      <th>time_elapsed</th>\n",
              "      <th>platform_version</th>\n",
              "    </tr>\n",
              "  </thead>\n",
              "  <tbody>\n",
              "    <tr>\n",
              "      <th>count</th>\n",
              "      <td>24.0</td>\n",
              "      <td>24.0</td>\n",
              "      <td>24.000000</td>\n",
              "      <td>24.000000</td>\n",
              "      <td>24.0</td>\n",
              "    </tr>\n",
              "    <tr>\n",
              "      <th>mean</th>\n",
              "      <td>38.0</td>\n",
              "      <td>1.0</td>\n",
              "      <td>11.500000</td>\n",
              "      <td>25968.416667</td>\n",
              "      <td>10.0</td>\n",
              "    </tr>\n",
              "    <tr>\n",
              "      <th>std</th>\n",
              "      <td>0.0</td>\n",
              "      <td>0.0</td>\n",
              "      <td>7.071068</td>\n",
              "      <td>8578.981114</td>\n",
              "      <td>0.0</td>\n",
              "    </tr>\n",
              "    <tr>\n",
              "      <th>min</th>\n",
              "      <td>38.0</td>\n",
              "      <td>1.0</td>\n",
              "      <td>0.000000</td>\n",
              "      <td>2087.000000</td>\n",
              "      <td>10.0</td>\n",
              "    </tr>\n",
              "    <tr>\n",
              "      <th>25%</th>\n",
              "      <td>38.0</td>\n",
              "      <td>1.0</td>\n",
              "      <td>5.750000</td>\n",
              "      <td>22796.750000</td>\n",
              "      <td>10.0</td>\n",
              "    </tr>\n",
              "    <tr>\n",
              "      <th>50%</th>\n",
              "      <td>38.0</td>\n",
              "      <td>1.0</td>\n",
              "      <td>11.500000</td>\n",
              "      <td>28205.000000</td>\n",
              "      <td>10.0</td>\n",
              "    </tr>\n",
              "    <tr>\n",
              "      <th>75%</th>\n",
              "      <td>38.0</td>\n",
              "      <td>1.0</td>\n",
              "      <td>17.250000</td>\n",
              "      <td>31630.000000</td>\n",
              "      <td>10.0</td>\n",
              "    </tr>\n",
              "    <tr>\n",
              "      <th>max</th>\n",
              "      <td>38.0</td>\n",
              "      <td>1.0</td>\n",
              "      <td>23.000000</td>\n",
              "      <td>35553.000000</td>\n",
              "      <td>10.0</td>\n",
              "    </tr>\n",
              "  </tbody>\n",
              "</table>\n",
              "</div>"
            ],
            "text/plain": [
              "       run_id  condition  trial_index  time_elapsed  platform_version\n",
              "count    24.0       24.0    24.000000     24.000000              24.0\n",
              "mean     38.0        1.0    11.500000  25968.416667              10.0\n",
              "std       0.0        0.0     7.071068   8578.981114               0.0\n",
              "min      38.0        1.0     0.000000   2087.000000              10.0\n",
              "25%      38.0        1.0     5.750000  22796.750000              10.0\n",
              "50%      38.0        1.0    11.500000  28205.000000              10.0\n",
              "75%      38.0        1.0    17.250000  31630.000000              10.0\n",
              "max      38.0        1.0    23.000000  35553.000000              10.0"
            ]
          },
          "metadata": {
            "tags": []
          },
          "execution_count": 6
        }
      ]
    },
    {
      "cell_type": "code",
      "metadata": {
        "id": "krm6lg4ybs6M",
        "colab": {
          "base_uri": "https://localhost:8080/"
        },
        "outputId": "ccb8c46a-90eb-4c68-f413-fd85f81e9067"
      },
      "source": [
        "# Chequeamos el tipo de las columnas\n",
        "\n",
        "print(df['run_id'].dtypes)\n",
        "print(df['condition'].dtypes)\n",
        "print(df['trial_index'].dtypes)\n",
        "print(df['time_elapsed'].dtypes)\n",
        "print(df['platform_version'].dtypes)  "
      ],
      "execution_count": null,
      "outputs": [
        {
          "output_type": "stream",
          "text": [
            "int64\n",
            "int64\n",
            "int64\n",
            "int64\n",
            "float64\n"
          ],
          "name": "stdout"
        }
      ]
    },
    {
      "cell_type": "code",
      "metadata": {
        "id": "giUaKnLbUkrj"
      },
      "source": [
        "# Eliminamos las primeras 3 filas que no tienen datos que nos sirvan para este analisis\n",
        "df.drop([0, 1, 2], inplace=True )"
      ],
      "execution_count": null,
      "outputs": []
    },
    {
      "cell_type": "code",
      "metadata": {
        "id": "K1TC7kCXENXz"
      },
      "source": [
        "# Filtro los tiempos de respuesta para estímulos naranjas\n",
        "df['rt_naranjas'] = df[df['stimulus'].str.contains(\"orange\")]['rt']"
      ],
      "execution_count": null,
      "outputs": []
    },
    {
      "cell_type": "code",
      "metadata": {
        "id": "-AuuXfwXEBD-"
      },
      "source": [
        "# Filtro los tiempos de respuesta para estímulos azules\n",
        "df['rt_azules'] = df[df['stimulus'].str.contains(\"blue\")]['rt']"
      ],
      "execution_count": null,
      "outputs": []
    },
    {
      "cell_type": "code",
      "metadata": {
        "id": "NGQH3C4DUcRD",
        "colab": {
          "base_uri": "https://localhost:8080/"
        },
        "outputId": "28951f3f-f991-4bd6-90bb-86a239a1cc40"
      },
      "source": [
        "# ¿Por qué no observamos los tiempos de respuesta en las estadísticas? \n",
        "# ¿ Qué tipo de datos contiene la columna \"rt\" ?\n",
        "df['rt_naranjas'].dtype"
      ],
      "execution_count": null,
      "outputs": [
        {
          "output_type": "execute_result",
          "data": {
            "text/plain": [
              "dtype('O')"
            ]
          },
          "metadata": {
            "tags": []
          },
          "execution_count": 16
        }
      ]
    },
    {
      "cell_type": "code",
      "metadata": {
        "id": "WaHs7atzIlFA"
      },
      "source": [
        "# Preparo los naranjas y azules para utilizarlos eliminando los NaN y\n",
        "# asegurándome que sean los valores sean tipo numérico.\n",
        "naranjas = df['rt_naranjas'].dropna().astype(float)\n",
        "azules = df['rt_azules'].dropna().astype(float)\n"
      ],
      "execution_count": null,
      "outputs": []
    },
    {
      "cell_type": "code",
      "metadata": {
        "id": "G0Xgpt16LaPT",
        "colab": {
          "base_uri": "https://localhost:8080/",
          "height": 281
        },
        "outputId": "42c05cf3-7358-4e7d-ff45-b84beae9cd97"
      },
      "source": [
        "# Plor para los azules\n",
        "fig2, ax2 = plt.subplots()\n",
        "ax2.set_title('boxplot')\n",
        "ax2.boxplot(azules)\n",
        "\n",
        "plt.show()"
      ],
      "execution_count": null,
      "outputs": [
        {
          "output_type": "display_data",
          "data": {
            "image/png": "[encoded data removed]",
            "text/plain": [
              "<Figure size 432x288 with 1 Axes>"
            ]
          },
          "metadata": {
            "tags": [],
            "needs_background": "light"
          }
        }
      ]
    },
    {
      "cell_type": "code",
      "metadata": {
        "id": "PigTxB1HMTCH",
        "colab": {
          "base_uri": "https://localhost:8080/",
          "height": 281
        },
        "outputId": "9f19bb88-3f3d-48ee-de56-accaac5b30e0"
      },
      "source": [
        "fig2, ax2 = plt.subplots()\n",
        "ax2.set_title('boxplot')\n",
        "ax2.boxplot(naranjas)\n",
        "\n",
        "plt.show()"
      ],
      "execution_count": null,
      "outputs": [
        {
          "output_type": "display_data",
          "data": {
            "image/png": "[encoded data removed]",
            "text/plain": [
              "<Figure size 432x288 with 1 Axes>"
            ]
          },
          "metadata": {
            "tags": [],
            "needs_background": "light"
          }
        }
      ]
    },
    {
      "cell_type": "code",
      "metadata": {
        "id": "_3XkrU2qObfG",
        "colab": {
          "base_uri": "https://localhost:8080/"
        },
        "outputId": "96677a35-c36e-4d81-c7e7-bcfca3ac461f"
      },
      "source": [
        "azules"
      ],
      "execution_count": null,
      "outputs": [
        {
          "output_type": "execute_result",
          "data": {
            "text/plain": [
              "6     464.150\n",
              "8     617.920\n",
              "14    444.515\n",
              "16    936.490\n",
              "22    572.165\n",
              "Name: rt_azules, dtype: float64"
            ]
          },
          "metadata": {
            "tags": []
          },
          "execution_count": 20
        }
      ]
    },
    {
      "cell_type": "code",
      "metadata": {
        "id": "vanGwSrOMFwL",
        "colab": {
          "base_uri": "https://localhost:8080/",
          "height": 281
        },
        "outputId": "77fdaa49-a6bb-448e-9275-326c72078fd2"
      },
      "source": [
        "data = [azules,naranjas]\n",
        "fig1, ax = plt.subplots()\n",
        "ax.set_title('Tiempo de reacción')\n",
        "ax.boxplot(data)\n",
        "\n",
        "# etiqueta eje x \n",
        "ax.set_xticklabels(['azules', 'naranjas'])\n",
        "\n",
        "# Estilo y colores de las cajas\n",
        "bp = ax.boxplot(data, patch_artist = True) \n",
        "colors = ['#0000FF',  '#f44611'] \n",
        "  \n",
        "for patch, color in zip(bp['boxes'], colors): \n",
        "    patch.set_facecolor(color) \n",
        "\n",
        "# Estilos de los puntos \n",
        "for flier in bp['fliers']: \n",
        "    flier.set(marker ='x', \n",
        "              color ='#e7298a', \n",
        "              alpha = 0.5) \n",
        "    \n",
        "# Color y grosor de las líneas que marcan las medianas \n",
        "for median in bp['medians']: \n",
        "    median.set(color ='black', \n",
        "               linewidth = 3) \n",
        "# Mostrar el gráfico\n",
        "plt.show()"
      ],
      "execution_count": null,
      "outputs": [
        {
          "output_type": "display_data",
          "data": {
            "image/png": "[encoded data removed]",
            "text/plain": [
              "<Figure size 432x288 with 1 Axes>"
            ]
          },
          "metadata": {
            "tags": [],
            "needs_background": "light"
          }
        }
      ]
    },
    {
      "cell_type": "code",
      "metadata": {
        "id": "qcEbC4E8E76M",
        "colab": {
          "base_uri": "https://localhost:8080/",
          "height": 34
        },
        "outputId": "fdaebe68-296a-4381-cab4-b839cf826de8"
      },
      "source": [
        "# Hacemos un  t-test de naranjas vs. azules\n",
        "\n",
        "stats.ttest_ind(naranjas,azules)\n"
      ],
      "execution_count": null,
      "outputs": [
        {
          "output_type": "execute_result",
          "data": {
            "text/plain": [
              "Ttest_indResult(statistic=-1.7964682563327923, pvalue=0.1101458715478464)"
            ]
          },
          "metadata": {
            "tags": []
          },
          "execution_count": 76
        }
      ]
    }
  ]
}